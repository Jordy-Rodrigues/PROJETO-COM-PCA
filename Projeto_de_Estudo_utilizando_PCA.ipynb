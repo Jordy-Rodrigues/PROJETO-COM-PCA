{
  "nbformat": 4,
  "nbformat_minor": 0,
  "metadata": {
    "colab": {
      "name": "Projeto de Estudo utilizando PCA",
      "provenance": [],
      "collapsed_sections": [],
      "mount_file_id": "1zRezFFC14R7W3ftBFgTkKWFW14r-dr3i",
      "authorship_tag": "ABX9TyOmB8gJOvJUmJbeqcYvkNGf",
      "include_colab_link": true
    },
    "kernelspec": {
      "name": "python3",
      "display_name": "Python 3"
    },
    "language_info": {
      "name": "python"
    }
  },
  "cells": [
    {
      "cell_type": "markdown",
      "metadata": {
        "id": "view-in-github",
        "colab_type": "text"
      },
      "source": [
        "<a href=\"https://colab.research.google.com/github/Jordy-Rodrigues/PROJETO-COM-PCA/blob/main/Projeto_de_Estudo_utilizando_PCA.ipynb\" target=\"_parent\"><img src=\"https://colab.research.google.com/assets/colab-badge.svg\" alt=\"Open In Colab\"/></a>"
      ]
    },
    {
      "cell_type": "markdown",
      "source": [
        "# CLASSIFICADOR SEM PCA (STELLAR)\n",
        "\n"
      ],
      "metadata": {
        "id": "D9L_JIiHuUrQ"
      }
    },
    {
      "cell_type": "code",
      "source": [
        "# IMPORTAR AS BIBLIOTECAS NECESSÁRIAS PARA MODELAR OS DADOS\n",
        "import pandas as pd\n",
        "import numpy as np\n",
        "import time"
      ],
      "metadata": {
        "id": "ZRYi3UtrezBN"
      },
      "execution_count": 105,
      "outputs": []
    },
    {
      "cell_type": "code",
      "source": [
        "# UTILIZAR O PANDAS PARA ABRIR O DATASET ENCONTRADO NO KAGGLE\n",
        "dataset_stellar= pd.read_csv('/content/drive/MyDrive/star_classification.csv', delimiter=',')"
      ],
      "metadata": {
        "id": "LoZxk7fKe_Ks"
      },
      "execution_count": 106,
      "outputs": []
    },
    {
      "cell_type": "code",
      "source": [
        "# MOSTRAR A BASE DE DADOS\n",
        "print(dataset_stellar)"
      ],
      "metadata": {
        "colab": {
          "base_uri": "https://localhost:8080/"
        },
        "id": "UBS0MVPxgwNW",
        "outputId": "cd889611-8d00-471e-c42e-107e7adb6a87"
      },
      "execution_count": 107,
      "outputs": [
        {
          "output_type": "stream",
          "name": "stdout",
          "text": [
            "             obj_ID       alpha      delta         u         g         r  \\\n",
            "0      1.237661e+18  135.689107  32.494632  23.87882  22.27530  20.39501   \n",
            "1      1.237665e+18  144.826101  31.274185  24.77759  22.83188  22.58444   \n",
            "2      1.237661e+18  142.188790  35.582444  25.26307  22.66389  20.60976   \n",
            "3      1.237663e+18  338.741038  -0.402828  22.13682  23.77656  21.61162   \n",
            "4      1.237680e+18  345.282593  21.183866  19.43718  17.58028  16.49747   \n",
            "...             ...         ...        ...       ...       ...       ...   \n",
            "99995  1.237679e+18   39.620709  -2.594074  22.16759  22.97586  21.90404   \n",
            "99996  1.237679e+18   29.493819  19.798874  22.69118  22.38628  20.45003   \n",
            "99997  1.237668e+18  224.587407  15.700707  21.16916  19.26997  18.20428   \n",
            "99998  1.237661e+18  212.268621  46.660365  25.35039  21.63757  19.91386   \n",
            "99999  1.237661e+18  196.896053  49.464643  22.62171  21.79745  20.60115   \n",
            "\n",
            "              i         z  run_ID  rerun_ID  cam_col  field_ID   spec_obj_ID  \\\n",
            "0      19.16573  18.79371    3606       301        2        79  6.543777e+18   \n",
            "1      21.16812  21.61427    4518       301        5       119  1.176014e+19   \n",
            "2      19.34857  18.94827    3606       301        2       120  5.152200e+18   \n",
            "3      20.50454  19.25010    4192       301        3       214  1.030107e+19   \n",
            "4      15.97711  15.54461    8102       301        3       137  6.891865e+18   \n",
            "...         ...       ...     ...       ...      ...       ...           ...   \n",
            "99995  21.30548  20.73569    7778       301        2       581  1.055431e+19   \n",
            "99996  19.75759  19.41526    7917       301        1       289  8.586351e+18   \n",
            "99997  17.69034  17.35221    5314       301        4       308  3.112008e+18   \n",
            "99998  19.07254  18.62482    3650       301        4       131  7.601080e+18   \n",
            "99999  20.00959  19.28075    3650       301        4        60  8.343152e+18   \n",
            "\n",
            "        class  redshift  plate    MJD  fiber_ID  \n",
            "0      GALAXY  0.634794   5812  56354       171  \n",
            "1      GALAXY  0.779136  10445  58158       427  \n",
            "2      GALAXY  0.644195   4576  55592       299  \n",
            "3      GALAXY  0.932346   9149  58039       775  \n",
            "4      GALAXY  0.116123   6121  56187       842  \n",
            "...       ...       ...    ...    ...       ...  \n",
            "99995  GALAXY  0.000000   9374  57749       438  \n",
            "99996  GALAXY  0.404895   7626  56934       866  \n",
            "99997  GALAXY  0.143366   2764  54535        74  \n",
            "99998  GALAXY  0.455040   6751  56368       470  \n",
            "99999  GALAXY  0.542944   7410  57104       851  \n",
            "\n",
            "[100000 rows x 18 columns]\n"
          ]
        }
      ]
    },
    {
      "cell_type": "code",
      "source": [
        "# SEPARAR A VARIÁVEL X DEPENDENTE, E A VARIÁVEL Y INDEPENDENTE\n",
        "x= dataset_stellar.loc[:, dataset_stellar.columns !='class'].values\n",
        "y= dataset_stellar['class'].values"
      ],
      "metadata": {
        "id": "iynSDFYDgPSw"
      },
      "execution_count": 108,
      "outputs": []
    },
    {
      "cell_type": "code",
      "source": [
        "# MOSTRAR O TOTAL DE COLUNAS \n",
        "len (dataset_stellar.columns)"
      ],
      "metadata": {
        "colab": {
          "base_uri": "https://localhost:8080/"
        },
        "id": "iBNdO-EwpDRQ",
        "outputId": "7c76b2eb-6ed7-4cb7-d67d-dff15486130a"
      },
      "execution_count": 109,
      "outputs": [
        {
          "output_type": "execute_result",
          "data": {
            "text/plain": [
              "18"
            ]
          },
          "metadata": {},
          "execution_count": 109
        }
      ]
    },
    {
      "cell_type": "code",
      "source": [
        "# MOSTRAR A QUANTIDADE DE GALÁXIAS, QUASARES E ESTRELAS TEM NA COLUNA Y\n",
        "np.unique(y, return_counts=True)"
      ],
      "metadata": {
        "colab": {
          "base_uri": "https://localhost:8080/"
        },
        "id": "U7Oo_QHrl6vP",
        "outputId": "8db14183-1a07-4c07-e484-ba43fba28fbe"
      },
      "execution_count": 110,
      "outputs": [
        {
          "output_type": "execute_result",
          "data": {
            "text/plain": [
              "(array(['GALAXY', 'QSO', 'STAR'], dtype=object), array([59445, 18961, 21594]))"
            ]
          },
          "metadata": {},
          "execution_count": 110
        }
      ]
    },
    {
      "cell_type": "markdown",
      "source": [
        "MACHINE LEARNING"
      ],
      "metadata": {
        "id": "5tpqDmpwqpXO"
      }
    },
    {
      "cell_type": "code",
      "source": [
        "# CONVERTER OS VALORES CATEGORICOS EM VALORES NUMÉRICOS\n",
        "from sklearn.preprocessing import LabelEncoder\n",
        "labelencoder_y= LabelEncoder()\n",
        "y= labelencoder_y.fit_transform(y)"
      ],
      "metadata": {
        "id": "8_3QE8sbmRNf"
      },
      "execution_count": 111,
      "outputs": []
    },
    {
      "cell_type": "code",
      "source": [
        "# PADRONIZAR AS FEATURES E DEIXA-LAS NORMALIZADAS PARA O MODELO\n",
        "from sklearn.preprocessing import StandardScaler\n",
        "scale_obj= StandardScaler()\n",
        "x= scale_obj.fit_transform(x.astype(float))\n"
      ],
      "metadata": {
        "id": "z_c0ZFhCnyUh"
      },
      "execution_count": 112,
      "outputs": []
    },
    {
      "cell_type": "code",
      "source": [
        "# SEPARAR UMA PARTE DA BASE DE DADOS PARA TREINAR E TESTAR O MODELO\n",
        "from sklearn.model_selection import train_test_split\n",
        "xTrain, xTest, yTrain, yTest= train_test_split(x,y, test_size=0.15)"
      ],
      "metadata": {
        "id": "noxiALGzoYxm"
      },
      "execution_count": 113,
      "outputs": []
    },
    {
      "cell_type": "code",
      "source": [
        "# UTILIZAR A BIBLIOTECA REGRESSÃO LOGÍSTICA\n",
        "from sklearn.linear_model import LogisticRegression\n",
        "model= LogisticRegression(solver='lbfgs', max_iter=400)\n",
        "\n",
        "# INICIAR E CONCLUIR A CRONOMETRAGEM DO TEMPO DE TREINO\n",
        "start_time= time.perf_counter()\n",
        "model.fit(xTrain,yTrain)\n",
        "end_time= time.perf_counter()\n",
        "\n",
        "# IMPRIMIR O TEMPO DE TREINO OBS: SEM UTILIZAR O PCA\n",
        "print('Tempo de treino:',end_time - start_time)"
      ],
      "metadata": {
        "colab": {
          "base_uri": "https://localhost:8080/"
        },
        "id": "CYCXdNI6pFhz",
        "outputId": "c6a26364-0713-4e92-b37e-f819fc3b0c33"
      },
      "execution_count": 114,
      "outputs": [
        {
          "output_type": "stream",
          "name": "stdout",
          "text": [
            "Tempo de treino: 17.48795658600011\n"
          ]
        }
      ]
    },
    {
      "cell_type": "code",
      "source": [
        "# PONTUAÇÃO DO MODELO\n",
        "model.score(xTest,yTest)"
      ],
      "metadata": {
        "colab": {
          "base_uri": "https://localhost:8080/"
        },
        "id": "lzVhUEEnqGuq",
        "outputId": "22cd1d37-46b7-4bc4-f8d2-cd15559a4701"
      },
      "execution_count": 115,
      "outputs": [
        {
          "output_type": "execute_result",
          "data": {
            "text/plain": [
              "0.9584"
            ]
          },
          "metadata": {},
          "execution_count": 115
        }
      ]
    },
    {
      "cell_type": "code",
      "source": [
        "# MOSTRAR O RESULTADO EM GRÁFICO\n",
        "import matplotlib.pyplot as plt\n",
        "from sklearn.metrics import ConfusionMatrixDisplay\n",
        "ConfusionMatrixDisplay.from_estimator(model, xTest, yTest)"
      ],
      "metadata": {
        "colab": {
          "base_uri": "https://localhost:8080/",
          "height": 296
        },
        "id": "WHuHUqeBqcWA",
        "outputId": "ac48b2ad-6989-4cf5-d904-6c9a4f90d636"
      },
      "execution_count": 116,
      "outputs": [
        {
          "output_type": "execute_result",
          "data": {
            "text/plain": [
              "<sklearn.metrics._plot.confusion_matrix.ConfusionMatrixDisplay at 0x7efc88324d10>"
            ]
          },
          "metadata": {},
          "execution_count": 116
        },
        {
          "output_type": "display_data",
          "data": {
            "text/plain": [
              "<Figure size 432x288 with 2 Axes>"
            ],
            "image/png": "[encoded data removed]"
          },
          "metadata": {
            "needs_background": "light"
          }
        }
      ]
    },
    {
      "cell_type": "markdown",
      "source": [
        "# CLASSIFICADOR COM PCA (STELLAR)"
      ],
      "metadata": {
        "id": "wqpKRozxurlF"
      }
    },
    {
      "cell_type": "code",
      "source": [
        "# IMPORTAR O PCA, COMPRIMIR AS COLUNAS E TREINAR E TESTAR O MODELO\n",
        "from sklearn import decomposition\n",
        "pca= decomposition.PCA(n_components=10)\n",
        "xTrain= pca.fit_transform (xTrain)\n",
        "xTest= pca.transform(xTest)"
      ],
      "metadata": {
        "id": "8fRLi-F70Mdy"
      },
      "execution_count": 117,
      "outputs": []
    },
    {
      "cell_type": "code",
      "source": [
        "# IMPORTAR A BIBLIOTECA REGRESSÃO LOGÍSTICA\n",
        "from sklearn.linear_model import LogisticRegression\n",
        "model= LogisticRegression(solver='lbfgs',max_iter=400)\n",
        "\n",
        "# INICIAR E CONCLUIR A CRONOMETRAGEM DO TEMPO DE TREINO\n",
        "start_time= time.perf_counter()\n",
        "model.fit(xTrain, yTrain)\n",
        "end_time= time.perf_counter()\n",
        "\n",
        "# IMPRIMIR O TEMPO DE TREINO OBS: COM O PCA\n",
        "print(\"Tempo de Treino:\", end_time - start_time)"
      ],
      "metadata": {
        "id": "r9dGK3jE0O5X",
        "colab": {
          "base_uri": "https://localhost:8080/"
        },
        "outputId": "5559065b-5f16-4845-c33d-f8a7633e0e43"
      },
      "execution_count": 118,
      "outputs": [
        {
          "output_type": "stream",
          "name": "stdout",
          "text": [
            "Tempo de Treino: 6.166418565999265\n"
          ]
        }
      ]
    },
    {
      "cell_type": "code",
      "source": [
        "# MONTUAÇÃO DO MODELO\n",
        "model.score(xTest,yTest)"
      ],
      "metadata": {
        "colab": {
          "base_uri": "https://localhost:8080/"
        },
        "id": "fuKQoaMlxtlT",
        "outputId": "590386bd-7270-4125-b737-b2b69992f5f6"
      },
      "execution_count": 119,
      "outputs": [
        {
          "output_type": "execute_result",
          "data": {
            "text/plain": [
              "0.9522666666666667"
            ]
          },
          "metadata": {},
          "execution_count": 119
        }
      ]
    },
    {
      "cell_type": "code",
      "source": [
        "# MOSTRAR O GRÁFICO NA MATRIZ DE CONFUSÃO\n",
        "import matplotlib.pyplot as plt\n",
        "from sklearn.metrics import ConfusionMatrixDisplay\n",
        "ConfusionMatrixDisplay.from_estimator(model,xTest,yTest)"
      ],
      "metadata": {
        "colab": {
          "base_uri": "https://localhost:8080/",
          "height": 296
        },
        "id": "Klv3E6iCyBTc",
        "outputId": "da45a99c-b86c-4ea9-ba27-f65b1571e952"
      },
      "execution_count": 120,
      "outputs": [
        {
          "output_type": "execute_result",
          "data": {
            "text/plain": [
              "<sklearn.metrics._plot.confusion_matrix.ConfusionMatrixDisplay at 0x7efc860e4250>"
            ]
          },
          "metadata": {},
          "execution_count": 120
        },
        {
          "output_type": "display_data",
          "data": {
            "text/plain": [
              "<Figure size 432x288 with 2 Axes>"
            ],
            "image/png": "[encoded data removed]"
          },
          "metadata": {
            "needs_background": "light"
          }
        }
      ]
    },
    {
      "cell_type": "code",
      "source": [
        "# PCA COM 2 COMPONENTES PARA UMA VISUALIZAÇÃO 2D EM UM GRÁFICO \n",
        "from sklearn.decomposition import PCA\n",
        "pca_viewer=PCA(n_components=2)\n",
        "principal_components= pca_viewer.fit_transform(xTrain)\n",
        "\n",
        "# VARIAÇÃO DO PCA EM RELAÇÃO AO TOTAL ORIGINAL\n",
        "print(pca_viewer.explained_variance_ratio_)"
      ],
      "metadata": {
        "id": "fqZSuD4ezOuM",
        "colab": {
          "base_uri": "https://localhost:8080/"
        },
        "outputId": "f16d2a6b-1e5f-412e-f53e-95f985dcdf30"
      },
      "execution_count": 121,
      "outputs": [
        {
          "output_type": "stream",
          "name": "stdout",
          "text": [
            "[0.28609324 0.21267919]\n"
          ]
        }
      ]
    },
    {
      "cell_type": "code",
      "source": [
        "# CRIAR UM DATAFRAME UTILIZANDO PANDAS \n",
        "principal_components_df= pd.DataFrame(data= principal_components, \n",
        "                                      columns=['principal component 1','principal component 2'])"
      ],
      "metadata": {
        "id": "gGU0icxB1Imk"
      },
      "execution_count": 122,
      "outputs": []
    },
    {
      "cell_type": "code",
      "source": [
        "# MOSTRAR AS DUAS COLUNAS \n",
        "principal_components_df"
      ],
      "metadata": {
        "colab": {
          "base_uri": "https://localhost:8080/",
          "height": 424
        },
        "id": "KR0IccOV1shZ",
        "outputId": "8cc78fd3-3fe8-46b5-c393-b04d33694410"
      },
      "execution_count": 123,
      "outputs": [
        {
          "output_type": "execute_result",
          "data": {
            "text/plain": [
              "       principal component 1  principal component 2\n",
              "0                  -1.927803               0.173483\n",
              "1                   3.148501              -0.348950\n",
              "2                   0.643592              -0.141856\n",
              "3                  -3.492876               0.443187\n",
              "4                  -0.424921               0.042732\n",
              "...                      ...                    ...\n",
              "84995               0.202886              -0.157035\n",
              "84996              -0.886181              -0.006210\n",
              "84997              -0.905803               0.093070\n",
              "84998               0.360711              -0.099323\n",
              "84999               2.135376              -0.361710\n",
              "\n",
              "[85000 rows x 2 columns]"
            ],
            "text/html": [
              "\n",
              "  <div id=\"df-9856b3fd-425e-41a0-af51-5f24aaa2f7ea\">\n",
              "    <div class=\"colab-df-container\">\n",
              "      <div>\n",
              "<style scoped>\n",
              "    .dataframe tbody tr th:only-of-type {\n",
              "        vertical-align: middle;\n",
              "    }\n",
              "\n",
              "    .dataframe tbody tr th {\n",
              "        vertical-align: top;\n",
              "    }\n",
              "\n",
              "    .dataframe thead th {\n",
              "        text-align: right;\n",
              "    }\n",
              "</style>\n",
              "<table border=\"1\" class=\"dataframe\">\n",
              "  <thead>\n",
              "    <tr style=\"text-align: right;\">\n",
              "      <th></th>\n",
              "      <th>principal component 1</th>\n",
              "      <th>principal component 2</th>\n",
              "    </tr>\n",
              "  </thead>\n",
              "  <tbody>\n",
              "    <tr>\n",
              "      <th>0</th>\n",
              "      <td>-1.927803</td>\n",
              "      <td>0.173483</td>\n",
              "    </tr>\n",
              "    <tr>\n",
              "      <th>1</th>\n",
              "      <td>3.148501</td>\n",
              "      <td>-0.348950</td>\n",
              "    </tr>\n",
              "    <tr>\n",
              "      <th>2</th>\n",
              "      <td>0.643592</td>\n",
              "      <td>-0.141856</td>\n",
              "    </tr>\n",
              "    <tr>\n",
              "      <th>3</th>\n",
              "      <td>-3.492876</td>\n",
              "      <td>0.443187</td>\n",
              "    </tr>\n",
              "    <tr>\n",
              "      <th>4</th>\n",
              "      <td>-0.424921</td>\n",
              "      <td>0.042732</td>\n",
              "    </tr>\n",
              "    <tr>\n",
              "      <th>...</th>\n",
              "      <td>...</td>\n",
              "      <td>...</td>\n",
              "    </tr>\n",
              "    <tr>\n",
              "      <th>84995</th>\n",
              "      <td>0.202886</td>\n",
              "      <td>-0.157035</td>\n",
              "    </tr>\n",
              "    <tr>\n",
              "      <th>84996</th>\n",
              "      <td>-0.886181</td>\n",
              "      <td>-0.006210</td>\n",
              "    </tr>\n",
              "    <tr>\n",
              "      <th>84997</th>\n",
              "      <td>-0.905803</td>\n",
              "      <td>0.093070</td>\n",
              "    </tr>\n",
              "    <tr>\n",
              "      <th>84998</th>\n",
              "      <td>0.360711</td>\n",
              "      <td>-0.099323</td>\n",
              "    </tr>\n",
              "    <tr>\n",
              "      <th>84999</th>\n",
              "      <td>2.135376</td>\n",
              "      <td>-0.361710</td>\n",
              "    </tr>\n",
              "  </tbody>\n",
              "</table>\n",
              "<p>85000 rows × 2 columns</p>\n",
              "</div>\n",
              "      <button class=\"colab-df-convert\" onclick=\"convertToInteractive('df-9856b3fd-425e-41a0-af51-5f24aaa2f7ea')\"\n",
              "              title=\"Convert this dataframe to an interactive table.\"\n",
              "              style=\"display:none;\">\n",
              "        \n",
              "  <svg xmlns=\"http://www.w3.org/2000/svg\" height=\"24px\"viewBox=\"0 0 24 24\"\n",
              "       width=\"24px\">\n",
              "    <path d=\"M0 0h24v24H0V0z\" fill=\"none\"/>\n",
              "    <path d=\"M18.56 5.44l.94 2.06.94-2.06 2.06-.94-2.06-.94-.94-2.06-.94 2.06-2.06.94zm-11 1L8.5 8.5l.94-2.06 2.06-.94-2.06-.94L8.5 2.5l-.94 2.06-2.06.94zm10 10l.94 2.06.94-2.06 2.06-.94-2.06-.94-.94-2.06-.94 2.06-2.06.94z\"/><path d=\"M17.41 7.96l-1.37-1.37c-.4-.4-.92-.59-1.43-.59-.52 0-1.04.2-1.43.59L10.3 9.45l-7.72 7.72c-.78.78-.78 2.05 0 2.83L4 21.41c.39.39.9.59 1.41.59.51 0 1.02-.2 1.41-.59l7.78-7.78 2.81-2.81c.8-.78.8-2.07 0-2.86zM5.41 20L4 18.59l7.72-7.72 1.47 1.35L5.41 20z\"/>\n",
              "  </svg>\n",
              "      </button>\n",
              "      \n",
              "  <style>\n",
              "    .colab-df-container {\n",
              "      display:flex;\n",
              "      flex-wrap:wrap;\n",
              "      gap: 12px;\n",
              "    }\n",
              "\n",
              "    .colab-df-convert {\n",
              "      background-color: #E8F0FE;\n",
              "      border: none;\n",
              "      border-radius: 50%;\n",
              "      cursor: pointer;\n",
              "      display: none;\n",
              "      fill: #1967D2;\n",
              "      height: 32px;\n",
              "      padding: 0 0 0 0;\n",
              "      width: 32px;\n",
              "    }\n",
              "\n",
              "    .colab-df-convert:hover {\n",
              "      background-color: #E2EBFA;\n",
              "      box-shadow: 0px 1px 2px rgba(60, 64, 67, 0.3), 0px 1px 3px 1px rgba(60, 64, 67, 0.15);\n",
              "      fill: #174EA6;\n",
              "    }\n",
              "\n",
              "    [theme=dark] .colab-df-convert {\n",
              "      background-color: #3B4455;\n",
              "      fill: #D2E3FC;\n",
              "    }\n",
              "\n",
              "    [theme=dark] .colab-df-convert:hover {\n",
              "      background-color: #434B5C;\n",
              "      box-shadow: 0px 1px 3px 1px rgba(0, 0, 0, 0.15);\n",
              "      filter: drop-shadow(0px 1px 2px rgba(0, 0, 0, 0.3));\n",
              "      fill: #FFFFFF;\n",
              "    }\n",
              "  </style>\n",
              "\n",
              "      <script>\n",
              "        const buttonEl =\n",
              "          document.querySelector('#df-9856b3fd-425e-41a0-af51-5f24aaa2f7ea button.colab-df-convert');\n",
              "        buttonEl.style.display =\n",
              "          google.colab.kernel.accessAllowed ? 'block' : 'none';\n",
              "\n",
              "        async function convertToInteractive(key) {\n",
              "          const element = document.querySelector('#df-9856b3fd-425e-41a0-af51-5f24aaa2f7ea');\n",
              "          const dataTable =\n",
              "            await google.colab.kernel.invokeFunction('convertToInteractive',\n",
              "                                                     [key], {});\n",
              "          if (!dataTable) return;\n",
              "\n",
              "          const docLinkHtml = 'Like what you see? Visit the ' +\n",
              "            '<a target=\"_blank\" href=https://colab.research.google.com/notebooks/data_table.ipynb>data table notebook</a>'\n",
              "            + ' to learn more about interactive tables.';\n",
              "          element.innerHTML = '';\n",
              "          dataTable['output_type'] = 'display_data';\n",
              "          await google.colab.output.renderOutput(dataTable, element);\n",
              "          const docLink = document.createElement('div');\n",
              "          docLink.innerHTML = docLinkHtml;\n",
              "          element.appendChild(docLink);\n",
              "        }\n",
              "      </script>\n",
              "    </div>\n",
              "  </div>\n",
              "  "
            ]
          },
          "metadata": {},
          "execution_count": 123
        }
      ]
    },
    {
      "cell_type": "code",
      "source": [
        "# GERAR GRÁFICO\n",
        "yTrain.astype(int)\n",
        "yTrain= np.where(yTrain == 0,'GALAXY', yTrain)\n",
        "yTrain= np.where(yTrain == '1','QSO', yTrain)\n",
        "yTrain= np.where(yTrain == '2','STAR', yTrain)\n",
        "\n",
        "plt.figure()\n",
        "plt.figure(figsize=(10,10))\n",
        "plt.xticks(fontsize=12)\n",
        "plt.yticks(fontsize=14)\n",
        "plt.xlabel('principal component - 1', fontsize=20)\n",
        "plt.ylabel('principal component - 2', fontsize=20)\n",
        "plt.xlim(-15,15)\n",
        "plt.ylim(-1,1)\n",
        "plt.title('principal component Analysis - STELLA', fontsize=20)\n",
        "targets=['GALAXY','QSO','STAR']\n",
        "colors=['r','g','b']\n",
        "\n",
        "for target, color in zip (targets, colors):\n",
        "  indicesToKeep= yTrain== target\n",
        "  plt.scatter(principal_components_df.loc[indicesToKeep,'principal component 1'],\n",
        "              principal_components_df.loc[indicesToKeep,'principal component 2'],\n",
        "              c=color, s=25, alpha=0.5)\n",
        "plt.legend(targets,prop={'size':15})\n",
        "plt.show()"
      ],
      "metadata": {
        "colab": {
          "base_uri": "https://localhost:8080/",
          "height": 656
        },
        "id": "cFeEhVe883O0",
        "outputId": "bf21be8a-739a-4b56-cb44-d086d699bb77"
      },
      "execution_count": 124,
      "outputs": [
        {
          "output_type": "display_data",
          "data": {
            "text/plain": [
              "<Figure size 432x288 with 0 Axes>"
            ]
          },
          "metadata": {}
        },
        {
          "output_type": "display_data",
          "data": {
            "text/plain": [
              "<Figure size 720x720 with 1 Axes>"
            ],
            "image/png": "[encoded data removed]"
          },
          "metadata": {
            "needs_background": "light"
          }
        }
      ]
    }
  ]
}